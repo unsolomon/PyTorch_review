{
 "cells": [
  {
   "cell_type": "markdown",
   "id": "a382c074",
   "metadata": {},
   "source": [
    "#간단한 파이토치 텐서 실습"
   ]
  },
  {
   "cell_type": "code",
   "execution_count": 2,
   "id": "0b211b3e",
   "metadata": {},
   "outputs": [
    {
     "name": "stdout",
     "output_type": "stream",
     "text": [
      "Collecting torch\n",
      "  Downloading torch-2.7.0-cp311-cp311-win_amd64.whl.metadata (29 kB)\n",
      "Requirement already satisfied: filelock in c:\\users\\black\\appdata\\local\\programs\\python\\python311\\lib\\site-packages (from torch) (3.16.1)\n",
      "Requirement already satisfied: typing-extensions>=4.10.0 in c:\\users\\black\\appdata\\roaming\\python\\python311\\site-packages (from torch) (4.12.2)\n",
      "Collecting sympy>=1.13.3 (from torch)\n",
      "  Downloading sympy-1.14.0-py3-none-any.whl.metadata (12 kB)\n",
      "Collecting networkx (from torch)\n",
      "  Using cached networkx-3.4.2-py3-none-any.whl.metadata (6.3 kB)\n",
      "Collecting jinja2 (from torch)\n",
      "  Downloading jinja2-3.1.6-py3-none-any.whl.metadata (2.9 kB)\n",
      "Requirement already satisfied: fsspec in c:\\users\\black\\appdata\\local\\programs\\python\\python311\\lib\\site-packages (from torch) (2024.12.0)\n",
      "Collecting mpmath<1.4,>=1.1.0 (from sympy>=1.13.3->torch)\n",
      "  Downloading mpmath-1.3.0-py3-none-any.whl.metadata (8.6 kB)\n",
      "Collecting MarkupSafe>=2.0 (from jinja2->torch)\n",
      "  Downloading MarkupSafe-3.0.2-cp311-cp311-win_amd64.whl.metadata (4.1 kB)\n",
      "Downloading torch-2.7.0-cp311-cp311-win_amd64.whl (212.5 MB)\n",
      "   ---------------------------------------- 0.0/212.5 MB ? eta -:--:--\n",
      "    --------------------------------------- 4.2/212.5 MB 20.9 MB/s eta 0:00:10\n",
      "   - -------------------------------------- 8.9/212.5 MB 21.3 MB/s eta 0:00:10\n",
      "   -- ------------------------------------- 13.4/212.5 MB 21.0 MB/s eta 0:00:10\n",
      "   --- ------------------------------------ 18.1/212.5 MB 21.1 MB/s eta 0:00:10\n",
      "   ---- ----------------------------------- 22.8/212.5 MB 21.2 MB/s eta 0:00:09\n",
      "   ----- ---------------------------------- 27.3/212.5 MB 21.1 MB/s eta 0:00:09\n",
      "   ------ --------------------------------- 32.0/212.5 MB 21.1 MB/s eta 0:00:09\n",
      "   ------ --------------------------------- 34.6/212.5 MB 20.2 MB/s eta 0:00:09\n",
      "   ------- -------------------------------- 39.3/212.5 MB 20.3 MB/s eta 0:00:09\n",
      "   -------- ------------------------------- 43.8/212.5 MB 20.3 MB/s eta 0:00:09\n",
      "   --------- ------------------------------ 48.2/212.5 MB 20.5 MB/s eta 0:00:09\n",
      "   --------- ------------------------------ 52.7/212.5 MB 20.6 MB/s eta 0:00:08\n",
      "   ---------- ----------------------------- 57.4/212.5 MB 20.5 MB/s eta 0:00:08\n",
      "   ----------- ---------------------------- 62.1/212.5 MB 20.6 MB/s eta 0:00:08\n",
      "   ------------ --------------------------- 66.8/212.5 MB 20.7 MB/s eta 0:00:08\n",
      "   ------------- -------------------------- 71.3/212.5 MB 20.7 MB/s eta 0:00:07\n",
      "   -------------- ------------------------- 75.5/212.5 MB 20.8 MB/s eta 0:00:07\n",
      "   --------------- ------------------------ 80.2/212.5 MB 20.8 MB/s eta 0:00:07\n",
      "   --------------- ------------------------ 84.7/212.5 MB 20.8 MB/s eta 0:00:07\n",
      "   ---------------- ----------------------- 87.0/212.5 MB 20.3 MB/s eta 0:00:07\n",
      "   ---------------- ----------------------- 89.9/212.5 MB 19.9 MB/s eta 0:00:07\n",
      "   ----------------- ---------------------- 92.3/212.5 MB 19.8 MB/s eta 0:00:07\n",
      "   ----------------- ---------------------- 95.2/212.5 MB 19.3 MB/s eta 0:00:07\n",
      "   ------------------ --------------------- 99.4/212.5 MB 19.3 MB/s eta 0:00:06\n",
      "   ------------------ -------------------- 101.4/212.5 MB 18.9 MB/s eta 0:00:06\n",
      "   ------------------- ------------------- 105.9/212.5 MB 19.0 MB/s eta 0:00:06\n",
      "   -------------------- ------------------ 110.4/212.5 MB 19.0 MB/s eta 0:00:06\n",
      "   --------------------- ----------------- 114.8/212.5 MB 19.1 MB/s eta 0:00:06\n",
      "   --------------------- ----------------- 119.3/212.5 MB 19.1 MB/s eta 0:00:05\n",
      "   ---------------------- ---------------- 123.7/212.5 MB 19.2 MB/s eta 0:00:05\n",
      "   ----------------------- --------------- 128.5/212.5 MB 19.3 MB/s eta 0:00:05\n",
      "   ------------------------ -------------- 133.2/212.5 MB 19.4 MB/s eta 0:00:05\n",
      "   ------------------------- ------------- 137.6/212.5 MB 19.4 MB/s eta 0:00:04\n",
      "   -------------------------- ------------ 142.3/212.5 MB 19.5 MB/s eta 0:00:04\n",
      "   -------------------------- ------------ 146.5/212.5 MB 19.5 MB/s eta 0:00:04\n",
      "   --------------------------- ----------- 151.3/212.5 MB 19.6 MB/s eta 0:00:04\n",
      "   ---------------------------- ---------- 155.7/212.5 MB 19.6 MB/s eta 0:00:03\n",
      "   ----------------------------- --------- 160.4/212.5 MB 19.7 MB/s eta 0:00:03\n",
      "   ------------------------------ -------- 164.9/212.5 MB 19.7 MB/s eta 0:00:03\n",
      "   ------------------------------- ------- 169.6/212.5 MB 19.7 MB/s eta 0:00:03\n",
      "   ------------------------------- ------- 174.1/212.5 MB 19.8 MB/s eta 0:00:02\n",
      "   -------------------------------- ------ 178.5/212.5 MB 19.8 MB/s eta 0:00:02\n",
      "   --------------------------------- ----- 183.2/212.5 MB 19.8 MB/s eta 0:00:02\n",
      "   ---------------------------------- ---- 187.7/212.5 MB 19.9 MB/s eta 0:00:02\n",
      "   ----------------------------------- --- 192.4/212.5 MB 19.9 MB/s eta 0:00:02\n",
      "   ------------------------------------ -- 196.9/212.5 MB 19.9 MB/s eta 0:00:01\n",
      "   ------------------------------------ -- 201.6/212.5 MB 20.0 MB/s eta 0:00:01\n",
      "   ------------------------------------- - 206.0/212.5 MB 20.0 MB/s eta 0:00:01\n",
      "   --------------------------------------  210.5/212.5 MB 20.0 MB/s eta 0:00:01\n",
      "   --------------------------------------  212.3/212.5 MB 20.0 MB/s eta 0:00:01\n",
      "   --------------------------------------- 212.5/212.5 MB 19.5 MB/s eta 0:00:00\n",
      "Downloading sympy-1.14.0-py3-none-any.whl (6.3 MB)\n",
      "   ---------------------------------------- 0.0/6.3 MB ? eta -:--:--\n",
      "   -------------------------- ------------- 4.2/6.3 MB 21.0 MB/s eta 0:00:01\n",
      "   ---------------------------------------- 6.3/6.3 MB 20.3 MB/s eta 0:00:00\n",
      "Downloading jinja2-3.1.6-py3-none-any.whl (134 kB)\n",
      "Using cached networkx-3.4.2-py3-none-any.whl (1.7 MB)\n",
      "Downloading MarkupSafe-3.0.2-cp311-cp311-win_amd64.whl (15 kB)\n",
      "Downloading mpmath-1.3.0-py3-none-any.whl (536 kB)\n",
      "   ---------------------------------------- 0.0/536.2 kB ? eta -:--:--\n",
      "   ---------------------------------------- 536.2/536.2 kB 8.8 MB/s eta 0:00:00\n",
      "Installing collected packages: mpmath, sympy, networkx, MarkupSafe, jinja2, torch\n",
      "Successfully installed MarkupSafe-3.0.2 jinja2-3.1.6 mpmath-1.3.0 networkx-3.4.2 sympy-1.14.0 torch-2.7.0\n",
      "Note: you may need to restart the kernel to use updated packages.\n"
     ]
    },
    {
     "name": "stderr",
     "output_type": "stream",
     "text": [
      "\n",
      "[notice] A new release of pip is available: 25.0 -> 25.1.1\n",
      "[notice] To update, run: python.exe -m pip install --upgrade pip\n"
     ]
    }
   ],
   "source": [
    "pip install torch"
   ]
  },
  {
   "cell_type": "code",
   "execution_count": 3,
   "id": "2a495d23",
   "metadata": {},
   "outputs": [],
   "source": [
    "import torch"
   ]
  },
  {
   "cell_type": "code",
   "execution_count": null,
   "id": "45aff692",
   "metadata": {},
   "outputs": [],
   "source": [
    "#0차원 코드표현\n",
    "a = torch.tensor(36.6)\n",
    "print('a=',a)"
   ]
  },
  {
   "cell_type": "code",
   "execution_count": null,
   "id": "c9b7b3fd",
   "metadata": {},
   "outputs": [],
   "source": [
    "#1차원 코드표현\n",
    "b = torch.tensor([1,2,3,4,5])\n",
    "print('b=',b)"
   ]
  },
  {
   "cell_type": "code",
   "execution_count": null,
   "id": "35f5c934",
   "metadata": {},
   "outputs": [],
   "source": [
    "#2차원 코드표현\n",
    "c = torch.tensor([[1,2,3],[4,5,6]])\n",
    "print('c=',c)"
   ]
  },
  {
   "cell_type": "code",
   "execution_count": null,
   "id": "f3e56fc5",
   "metadata": {},
   "outputs": [],
   "source": [
    "#3차원 코드표현\n",
    "d = torch.tensor([[[1,2,3],[4,5,6]],[[7,8,9],[10,11,12]]])\n",
    "print('d=',d)"
   ]
  }
 ],
 "metadata": {
  "kernelspec": {
   "display_name": "Python 3",
   "language": "python",
   "name": "python3"
  },
  "language_info": {
   "codemirror_mode": {
    "name": "ipython",
    "version": 3
   },
   "file_extension": ".py",
   "mimetype": "text/x-python",
   "name": "python",
   "nbconvert_exporter": "python",
   "pygments_lexer": "ipython3",
   "version": "3.11.9"
  }
 },
 "nbformat": 4,
 "nbformat_minor": 5
}
