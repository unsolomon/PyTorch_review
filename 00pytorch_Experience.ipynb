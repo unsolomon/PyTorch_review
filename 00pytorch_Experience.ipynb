{
 "cells": [
  {
   "cell_type": "markdown",
   "id": "a382c074",
   "metadata": {},
   "source": [
    "#간단한 파이토치 텐서 실습\n",
    "왜 텐서 차원 구조를 알아야 하는가?\n",
    "1. 데이터의 구조와 의미 파악 :텐서는 스칼라(0D), 벡터(1D), 행렬(2D), 고차원 배열(3D 이상)까지 다양한 차원을 가질 수 있음\n",
    "2. 딥러닝 프레임워크와의 호환 : Pytorch, tensorflow 동적,정적 프레임워크는 텐서의 차원 정보를 기반으로 연산을 수행하기 때문\n",
    "3. 유용한 함수들 : reshape, transpose 차원 변환 작업에 용이\n",
    "4. 고차원 데이터의 해석과 시각화 : 복잡한 데이터 구조를 시각화하여 올라르게 해석가능\n"
   ]
  },
  {
   "cell_type": "code",
   "execution_count": null,
   "id": "0b211b3e",
   "metadata": {},
   "outputs": [],
   "source": [
    "pip install torch"
   ]
  },
  {
   "cell_type": "code",
   "execution_count": 3,
   "id": "2a495d23",
   "metadata": {},
   "outputs": [],
   "source": [
    "import torch"
   ]
  },
  {
   "cell_type": "code",
   "execution_count": null,
   "id": "45aff692",
   "metadata": {},
   "outputs": [],
   "source": [
    "#0차원 코드표현\n",
    "a = torch.tensor(36.6)\n",
    "print('a=',a)"
   ]
  },
  {
   "cell_type": "code",
   "execution_count": null,
   "id": "c9b7b3fd",
   "metadata": {},
   "outputs": [],
   "source": [
    "#1차원 코드표현\n",
    "b = torch.tensor([1,2,3,4,5])\n",
    "print('b=',b)"
   ]
  },
  {
   "cell_type": "code",
   "execution_count": null,
   "id": "35f5c934",
   "metadata": {},
   "outputs": [],
   "source": [
    "#2차원 코드표현\n",
    "c = torch.tensor([[1,2,3],[4,5,6]])\n",
    "print('c=',c)"
   ]
  },
  {
   "cell_type": "code",
   "execution_count": null,
   "id": "f3e56fc5",
   "metadata": {},
   "outputs": [],
   "source": [
    "#3차원 코드표현\n",
    "d = torch.tensor([[[1,2,3],[4,5,6]],[[7,8,9],[10,11,12]]])\n",
    "print('d=',d)"
   ]
  }
 ],
 "metadata": {
  "kernelspec": {
   "display_name": "Python 3",
   "language": "python",
   "name": "python3"
  },
  "language_info": {
   "codemirror_mode": {
    "name": "ipython",
    "version": 3
   },
   "file_extension": ".py",
   "mimetype": "text/x-python",
   "name": "python",
   "nbconvert_exporter": "python",
   "pygments_lexer": "ipython3",
   "version": "3.11.9"
  }
 },
 "nbformat": 4,
 "nbformat_minor": 5
}
