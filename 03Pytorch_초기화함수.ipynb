{
 "cells": [
  {
   "cell_type": "markdown",
   "id": "7c481ab0",
   "metadata": {},
   "source": [
    "PyTorch Tensor 초기화 함수 정리\n",
    "1. 0 또는 1로 초기화된 Tensor 생성\n",
    "2x3, 3x2x4 등 원하는 크기의 0 또는 1로 채워진 Tensor 생성\n",
    "(예: torch.zeros, torch.ones)\n",
    "\n",
    "기존 Tensor와 동일한 크기로 0 또는 1로 채우기\n",
    "(예: torch.zeros_like, torch.ones_like)\n",
    "\n",
    "2. 난수로 채워진 Tensor 생성\n",
    "원하는 크기의 0~1 사이 연속균등분포 난수 Tensor 생성\n",
    "(예: torch.rand)\n",
    "\n",
    "원하는 크기의 표준정규분포(평균 0, 표준편차 1) 난수 Tensor 생성\n",
    "(예: torch.randn)\n",
    "\n",
    "기존 Tensor와 동일한 크기의 난수 Tensor 생성\n",
    "(예: torch.rand_like, torch.randn_like)\n",
    "\n",
    "3. 지정된 범위의 값으로 생성\n",
    "시작값, 끝값, 증가폭을 지정하여 1D Tensor 생성\n",
    "(예: torch.arange)\n",
    "\n",
    "4. 초기화되지 않은 Tensor 생성\n",
    "원하는 크기의 초기화되지 않은 Tensor 생성\n",
    "(예: torch.empty)\n",
    "\n",
    "생성 후 모든 값을 특정 값으로 채우기\n",
    "(예: fill_ 메소드 사용)\n",
    "\n",
    "5. Python 리스트/NumPy 배열로부터 생성\n",
    "Python 리스트로부터 Tensor 생성\n",
    "(예: torch.tensor)\n",
    "\n",
    "NumPy 배열로부터 Tensor 생성\n",
    "(예: torch.from_numpy)\n",
    "\n",
    "필요시 실수형 등 타입 변환 가능\n",
    "\n",
    "6. 특정 타입의 Tensor 생성\n",
    "정수형 Tensor, 실수형 Tensor 등 타입별로 생성\n",
    "(예: torch.IntTensor, torch.FloatTensor)"
   ]
  }
 ],
 "metadata": {
  "language_info": {
   "name": "python"
  }
 },
 "nbformat": 4,
 "nbformat_minor": 5
}
